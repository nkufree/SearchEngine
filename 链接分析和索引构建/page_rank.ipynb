{
 "cells": [
  {
   "cell_type": "markdown",
   "metadata": {},
   "source": [
    "# 链接分析"
   ]
  },
  {
   "cell_type": "markdown",
   "metadata": {},
   "source": [
    "## 导入文件"
   ]
  },
  {
   "cell_type": "code",
   "execution_count": 1,
   "metadata": {},
   "outputs": [],
   "source": [
    "import re\n",
    "import time\n",
    "import os\n",
    "import csv\n",
    "import json\n",
    "import pickle\n",
    "from typing import List, Dict, Tuple"
   ]
  },
  {
   "cell_type": "code",
   "execution_count": 2,
   "metadata": {},
   "outputs": [],
   "source": [
    "with open(\"page_info.json\", \"r\", encoding='utf-8') as f:\n",
    "    url_info : Dict = json.load(f)"
   ]
  },
  {
   "cell_type": "code",
   "execution_count": 3,
   "metadata": {},
   "outputs": [],
   "source": [
    "with open(\"link_graph.pk\", \"rb\") as f:\n",
    "    link_graph : Dict[int, List[int]] = pickle.load(f)"
   ]
  },
  {
   "cell_type": "code",
   "execution_count": 4,
   "metadata": {},
   "outputs": [],
   "source": [
    "with open(\"num2link.pk\", \"rb\") as f:\n",
    "    num2link : Dict[int, str] = pickle.load(f)"
   ]
  },
  {
   "cell_type": "markdown",
   "metadata": {},
   "source": [
    "## 计算链接"
   ]
  },
  {
   "cell_type": "markdown",
   "metadata": {},
   "source": [
    "先为每个链接分配编号，将图中的顶点转换为编号"
   ]
  },
  {
   "cell_type": "code",
   "execution_count": 5,
   "metadata": {},
   "outputs": [],
   "source": [
    "num2id = {}\n",
    "i = 0\n",
    "for num in num2link:\n",
    "    num2id[num] = i\n",
    "    i += 1"
   ]
  },
  {
   "cell_type": "code",
   "execution_count": 6,
   "metadata": {},
   "outputs": [],
   "source": [
    "link_num = i"
   ]
  },
  {
   "cell_type": "code",
   "execution_count": 7,
   "metadata": {},
   "outputs": [],
   "source": [
    "id_graph = {}\n",
    "for key, value in link_graph.items():\n",
    "    temp = []\n",
    "    for to_num in value:\n",
    "        temp.append(num2id[to_num])\n",
    "    id_graph[num2id[key]] = temp"
   ]
  },
  {
   "cell_type": "markdown",
   "metadata": {},
   "source": [
    "维护两个数组，用于计算当前状态和下一状态的`PageRank`。"
   ]
  },
  {
   "cell_type": "code",
   "execution_count": 14,
   "metadata": {},
   "outputs": [],
   "source": [
    "iter = 100\n",
    "p = 0.85\n",
    "curr_pageRank = [1 / link_num] * link_num\n",
    "next_pageRank = [0] * link_num\n",
    "random_jump = (1 - p) / link_num"
   ]
  },
  {
   "cell_type": "code",
   "execution_count": 15,
   "metadata": {},
   "outputs": [],
   "source": [
    "for i in range(iter):\n",
    "    for key, value in id_graph.items():\n",
    "        if len(value) == 0:\n",
    "            continue\n",
    "        step = curr_pageRank[key] / len(value)\n",
    "        for i in value:\n",
    "            next_pageRank[i] += step\n",
    "\n",
    "    curr_pageRank = next_pageRank\n",
    "    next_pageRank = [0] * link_num\n",
    "    for i, n in enumerate(curr_pageRank):\n",
    "        # if n == 0:\n",
    "        #     curr_pageRank[i] = 1 / link_num\n",
    "        curr_pageRank[i] = curr_pageRank[i] * p + random_jump"
   ]
  },
  {
   "cell_type": "code",
   "execution_count": 12,
   "metadata": {},
   "outputs": [
    {
     "data": {
      "text/plain": [
       "[0.0008203634487337186,\n",
       " 0.0005754530347213719,\n",
       " 6.495309414156298e-05,\n",
       " 0.0011902521225991888,\n",
       " 9.838135739914219e-05,\n",
       " 0.00013628247244336223,\n",
       " 0.00010884854144308217,\n",
       " 0.00013479594759141714,\n",
       " 7.953003503214826e-05,\n",
       " 7.155839626656156e-05]"
      ]
     },
     "execution_count": 12,
     "metadata": {},
     "output_type": "execute_result"
    }
   ],
   "source": [
    "curr_pageRank[:10]"
   ]
  },
  {
   "cell_type": "code",
   "execution_count": 22,
   "metadata": {},
   "outputs": [],
   "source": [
    "# with open(\"test.json\", \"w\", encoding=\"utf-8\") as f:\n",
    "#     json.dump(PageRank, f, ensure_ascii=False, indent=4)"
   ]
  },
  {
   "cell_type": "markdown",
   "metadata": {},
   "source": [
    "将`PageRank`存入页面信息中："
   ]
  },
  {
   "cell_type": "code",
   "execution_count": 23,
   "metadata": {},
   "outputs": [],
   "source": [
    "for num, id in num2id.items():\n",
    "    link = num2link[num]\n",
    "    url_info[link][\"page_rank\"] = curr_pageRank[id]"
   ]
  },
  {
   "cell_type": "code",
   "execution_count": 24,
   "metadata": {},
   "outputs": [],
   "source": [
    "with open(\"page_info.json\", \"w\", encoding=\"utf-8\") as f:\n",
    "    json.dump(url_info, f, ensure_ascii=False, indent=4)"
   ]
  }
 ],
 "metadata": {
  "kernelspec": {
   "display_name": "Python 3",
   "language": "python",
   "name": "python3"
  },
  "language_info": {
   "codemirror_mode": {
    "name": "ipython",
    "version": 3
   },
   "file_extension": ".py",
   "mimetype": "text/x-python",
   "name": "python",
   "nbconvert_exporter": "python",
   "pygments_lexer": "ipython3",
   "version": "3.9.13"
  }
 },
 "nbformat": 4,
 "nbformat_minor": 2
}
