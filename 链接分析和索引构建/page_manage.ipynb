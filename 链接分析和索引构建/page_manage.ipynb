{
 "cells": [
  {
   "cell_type": "code",
   "execution_count": 1,
   "metadata": {},
   "outputs": [],
   "source": [
    "import os\n",
    "import re"
   ]
  },
  {
   "cell_type": "code",
   "execution_count": 2,
   "metadata": {},
   "outputs": [],
   "source": [
    "filter_string = [r\"\\{\", r\"\\}\", r\"\\|\", r\"#[1-9]*\", r\"萌娘百科，万物皆可萌的百科全书！转载请标注来源页面的网页链接，并声明引自萌娘百科。内容不可商用。\", r\"页面\", r\"讨论\", r\"简体\", r\"==\", r\"\\[\", r\"\\]\", r\"'''\"]"
   ]
  },
  {
   "cell_type": "code",
   "execution_count": 15,
   "metadata": {},
   "outputs": [
    {
     "data": {
      "text/plain": [
       "12281"
      ]
     },
     "execution_count": 15,
     "metadata": {},
     "output_type": "execute_result"
    }
   ],
   "source": [
    "with open(\"new_pages/1701606489\", \"r\", encoding=\"utf-8\") as f:\n",
    "    page = f.read()\n",
    "for pattern in filter_string:\n",
    "    page = re.sub(pattern, \"\", page)\n",
    "with open(\"new_pages/1701606489\", \"w\", encoding=\"utf-8\") as f:\n",
    "    f.write(page)"
   ]
  },
  {
   "cell_type": "code",
   "execution_count": 3,
   "metadata": {},
   "outputs": [],
   "source": [
    "pages = os.listdir(\"new_pages\")"
   ]
  },
  {
   "cell_type": "code",
   "execution_count": 4,
   "metadata": {},
   "outputs": [],
   "source": [
    "for page_name in pages:\n",
    "    with open(\"new_pages/\" + page_name, \"r\", encoding=\"utf-8\") as f:\n",
    "        page = f.read()\n",
    "    for pattern in filter_string:\n",
    "        page = re.sub(pattern, \"\", page)\n",
    "    with open(\"new_pages/\" + page_name, \"w\", encoding=\"utf-8\") as f:\n",
    "        len = f.write(page)"
   ]
  }
 ],
 "metadata": {
  "kernelspec": {
   "display_name": "Python 3",
   "language": "python",
   "name": "python3"
  },
  "language_info": {
   "codemirror_mode": {
    "name": "ipython",
    "version": 3
   },
   "file_extension": ".py",
   "mimetype": "text/x-python",
   "name": "python",
   "nbconvert_exporter": "python",
   "pygments_lexer": "ipython3",
   "version": "3.9.13"
  }
 },
 "nbformat": 4,
 "nbformat_minor": 2
}
